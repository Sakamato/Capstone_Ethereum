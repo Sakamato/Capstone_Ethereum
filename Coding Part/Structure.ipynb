{
 "cells": [
  {
   "cell_type": "markdown",
   "metadata": {},
   "source": [
    "# Presentation Slides (< 25 pages) (最好有动画)"
   ]
  },
  {
   "cell_type": "markdown",
   "metadata": {},
   "source": [
    "## Part I: Project Background"
   ]
  },
  {
   "cell_type": "markdown",
   "metadata": {},
   "source": [
    "- What is Eth + Market condition/Trading activities/Platforms + Difference from traditional financial market\n",
    "- What is Sentiment + Where to find? + What common use measurements?\n",
    "- How to link the two together? (How to do prediction -> using Artificial neural networks/Classification methods)"
   ]
  },
  {
   "cell_type": "markdown",
   "metadata": {},
   "source": [
    "## Part II: Objectives and Literature Review"
   ]
  },
  {
   "cell_type": "markdown",
   "metadata": {},
   "source": [
    "- Objective: Predicting Eth future price using social network sentiment data\n",
    "\n",
    "- One area of research is based on artificial intelligence and natural language processing techniques. (e.g.... paper)"
   ]
  },
  {
   "cell_type": "markdown",
   "metadata": {},
   "source": [
    "## Part III: Research Methodologies"
   ]
  },
  {
   "cell_type": "markdown",
   "metadata": {},
   "source": [
    "- Method Overview (Plot)\n",
    "\n",
    "- Data Collection\n",
    "    - Price data\n",
    "    - Text data from Raddit\n",
    "    - How to get Sentimet\n",
    "        - Sentiment component\n",
    "        - Sentiment total\n",
    "\n",
    "- SVM Model (Basic test on up/down of the future price change)\n",
    "\n",
    "- LSTM Model (A more sophsitcated model to test the actural price change)\n",
    "    "
   ]
  },
  {
   "cell_type": "markdown",
   "metadata": {},
   "source": [
    "## Part IV: Result Analysis and Discussions"
   ]
  },
  {
   "cell_type": "markdown",
   "metadata": {},
   "source": [
    "- Sentiment Plot (Regard with price change)\n",
    "- SVM Model prediction results\n",
    "    - Why the result is poor?\n",
    "- LSTM Model prediction results\n",
    "    - Why the acc is poor?\n",
    "    - What is the risk?"
   ]
  },
  {
   "cell_type": "markdown",
   "metadata": {},
   "source": [
    "## Part V: Conclusions and Future Work"
   ]
  },
  {
   "cell_type": "markdown",
   "metadata": {},
   "source": [
    "- How to do a better model?\n",
    "- Database\n",
    "- Sentiment Measurement"
   ]
  },
  {
   "cell_type": "markdown",
   "metadata": {},
   "source": []
  },
  {
   "cell_type": "markdown",
   "metadata": {},
   "source": [
    "# Project Report"
   ]
  },
  {
   "cell_type": "markdown",
   "metadata": {},
   "source": [
    "- Ch 1 Introduction, Research Problems, Objectives (completed in RMBI 4980) \n",
    "- Ch 2 Literature Review (completed in RMBI 4980)\n",
    "- Ch 3 Research Methodologies (completed in RMBI 4980)\n",
    "- Ch 4 Result Analysis and Discussions\n",
    "- Ch 5 Conclusions and Future Work \n",
    "- Ch 6 References\n",
    "- Ch 7 Appendix"
   ]
  },
  {
   "cell_type": "markdown",
   "metadata": {},
   "source": []
  },
  {
   "cell_type": "markdown",
   "metadata": {},
   "source": []
  }
 ],
 "metadata": {
  "kernelspec": {
   "display_name": "Python 3",
   "language": "python",
   "name": "python3"
  },
  "language_info": {
   "codemirror_mode": {
    "name": "ipython",
    "version": 3
   },
   "file_extension": ".py",
   "mimetype": "text/x-python",
   "name": "python",
   "nbconvert_exporter": "python",
   "pygments_lexer": "ipython3",
   "version": "3.6.8"
  }
 },
 "nbformat": 4,
 "nbformat_minor": 4
}
